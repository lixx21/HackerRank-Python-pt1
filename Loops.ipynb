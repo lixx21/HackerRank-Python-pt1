{
  "nbformat": 4,
  "nbformat_minor": 0,
  "metadata": {
    "colab": {
      "name": "Loops.ipynb",
      "provenance": [],
      "collapsed_sections": []
    },
    "kernelspec": {
      "name": "python3",
      "display_name": "Python 3"
    },
    "language_info": {
      "name": "python"
    }
  },
  "cells": [
    {
      "cell_type": "code",
      "source": [
        "if __name__ == '__main__':\n",
        "    n = int(input())\n",
        "    \n",
        "    for i in range (n):\n",
        "        print(i**2)"
      ],
      "metadata": {
        "id": "P2StmSGDVNQ-"
      },
      "execution_count": null,
      "outputs": []
    }
  ]
}