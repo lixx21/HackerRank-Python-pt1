{
  "nbformat": 4,
  "nbformat_minor": 0,
  "metadata": {
    "colab": {
      "name": "Python if-else.ipynb",
      "provenance": [],
      "collapsed_sections": []
    },
    "kernelspec": {
      "name": "python3",
      "display_name": "Python 3"
    },
    "language_info": {
      "name": "python"
    }
  },
  "cells": [
    {
      "cell_type": "code",
      "source": [
        "import math\n",
        "import os\n",
        "import random\n",
        "import re\n",
        "import sys\n",
        "\n",
        "if __name__ == '__main__':\n",
        "    n = int(input().strip())\n",
        "    \n",
        "    if n % 2 != 0:\n",
        "        print(\"Weird\")\n",
        "    else:\n",
        "        if n > 1 and n <= 6:\n",
        "            print(\"Not Weird\")\n",
        "        elif n > 5 and n <=20:\n",
        "            print(\"Weird\")\n",
        "        elif n > 20:\n",
        "            print(\"Not Weird\")\n"
      ],
      "metadata": {
        "id": "P2StmSGDVNQ-"
      },
      "execution_count": null,
      "outputs": []
    }
  ]
}